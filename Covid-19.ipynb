{
 "cells": [
  {
   "cell_type": "code",
   "execution_count": 6,
   "id": "251509f4",
   "metadata": {
    "pycharm": {
     "name": "#%%\n"
    }
   },
   "outputs": [],
   "source": [
    "import pandas as pd\n",
    "import matplotlib.pyplot as plt\n",
    "import matplotlib.dates as mdates\n",
    "\n",
    "%matplotlib inline\n",
    "plt.style.use(\"fivethirtyeight\")\n",
    "\n",
    "df = pd.read_csv(\"https://raw.githubusercontent.com/datasets/covid-19/main/data/countries-aggregated.csv\",parse_dates=[\"Date\"])\n",
    "df[\"Total Cases\"] = df[[\"Confirmed\", \"Recovered\", \"Deaths\"]].sum(axis=1)"
   ]
  },
  {
   "cell_type": "code",
   "execution_count": 7,
   "id": "bbb94fe8",
   "metadata": {},
   "outputs": [],
   "source": [
    "#Worldwide cases\n",
    "\n",
    "worldwide_df = df.groupby([\"Date\"]).sum()\n",
    "w = worldwide_df.plot(figsize=(32, 20))\n",
    "w.set_xlabel(\"Date\")\n",
    "w.set_ylabel(\"# of Cases Worldwide\")\n",
    "w.title.set_text(\"World wide covid insights\")\n",
    "\n",
    "plt.show()"
   ]
  },
  {
   "cell_type": "code",
   "execution_count": 8,
   "id": "3e99725a",
   "metadata": {},
   "outputs": [],
   "source": [
    "us_df = df[df[\"Country\"] == \"US\"].groupby([\"Date\"]).sum()\n",
    "\n",
    "fig = plt.figure(figsize=(12, 5))\n",
    "ax = fig.add_subplot(111)\n",
    "\n",
    "ax.plot(worldwide_df[[\"Total Cases\"]], label=\"Worldwide\")\n",
    "ax.plot(us_df[[\"Total Cases\"]], label=\"United States\")\n",
    "ax.set_xlabel(\"Date\")\n",
    "ax.set_ylabel(\"# of Cases Worldwide\")\n",
    "ax.title.set_text(\"World wide covid insights\")\n",
    "\n",
    "plt.legend(loc=\"upper left\")\n",
    "plt.show()"
   ]
  },
  {
   "cell_type": "code",
   "execution_count": null,
   "id": "57cff661",
   "metadata": {},
   "outputs": [],
   "source": []
  }
 ],
 "metadata": {
  "kernelspec": {
   "display_name": "Python 3",
   "language": "python",
   "name": "python3"
  },
  "language_info": {
   "codemirror_mode": {
    "name": "ipython",
    "version": 3
   },
   "file_extension": ".py",
   "mimetype": "text/x-python",
   "name": "python",
   "nbconvert_exporter": "python",
   "pygments_lexer": "ipython3",
   "version": "3.9.2"
  }
 },
 "nbformat": 4,
 "nbformat_minor": 5
}