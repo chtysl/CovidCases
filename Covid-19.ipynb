{
 "cells": [
  {
   "cell_type": "code",
   "execution_count": 26,
   "id": "251509f4",
   "metadata": {
    "pycharm": {
     "name": "#%%\n"
    }
   },
   "outputs": [],
   "source": [
    "import pandas as pd\n",
    "import matplotlib.pyplot as plt\n",
    "import matplotlib.dates as mdates\n",
    "\n",
    "%matplotlib inline\n",
    "plt.style.use(\"fivethirtyeight\")\n",
    "\n",
    "df = pd.read_csv(\"https://raw.githubusercontent.com/datasets/covid-19/main/data/countries-aggregated.csv\",parse_dates=[\"Date\"])\n",
    "df[\"Total Cases\"] = df[[\"Confirmed\", \"Recovered\", \"Deaths\"]].sum(axis=1)"
   ]
  },
  {
   "cell_type": "code",
   "execution_count": null,
   "id": "bbb94fe8",
   "metadata": {
    "pycharm": {
     "is_executing": true
    }
   },
   "outputs": [],
   "source": [
    "#Worldwide cases\n",
    "\n",
    "worldwide_df = df.groupby([\"Date\"]).sum()\n",
    "w = worldwide_df.plot(figsize=(32, 20))\n",
    "w.set_xlabel(\"Date\")\n",
    "w.set_ylabel(\"# of Cases Worldwide\")\n",
    "w.title.set_text(\"World wide covid insights\")\n",
    "\n",
    "plt.show()"
   ]
  },
  {
   "cell_type": "code",
   "execution_count": null,
   "id": "3e99725a",
   "metadata": {
    "pycharm": {
     "is_executing": true
    }
   },
   "outputs": [],
   "source": [
    "tr_df = df[df[\"Country\"] == \"Turkey\"].groupby([\"Date\"]).sum()\n",
    "\n",
    "fig = plt.figure(figsize=(12, 5))\n",
    "ax = fig.add_subplot(111)\n",
    "\n",
    "ax.plot(worldwide_df[[\"Total Cases\"]], label=\"Worldwide\")\n",
    "ax.plot(tr_df[[\"Total Cases\"]], label=\"Turkey\")\n",
    "ax.set_xlabel(\"Date\")\n",
    "ax.set_ylabel(\"# of Cases Worldwide\")\n",
    "ax.title.set_text(\"World wide covid insights\")\n",
    "\n",
    "plt.legend(loc=\"upper left\")\n",
    "plt.show()"
   ]
  },
  {
   "cell_type": "code",
   "execution_count": null,
   "id": "57cff661",
   "metadata": {
    "pycharm": {
     "is_executing": true
    },
    "scrolled": false
   },
   "outputs": [],
   "source": [
    "#turkey daily cases and deaths\n",
    "tr_df = tr_df.reset_index()\n",
    "tr_df[\"Daily Confirmed\"] = tr_df[\"Confirmed\"].sub(tr_df[\"Confirmed\"].shift())\n",
    "tr_df[\"Daily Deaths\"] = tr_df[\"Deaths\"].sub(tr_df[\"Deaths\"].shift())\n",
    "\n",
    "tr_df.head()\n",
    "\n",
    "fig = plt.figure(figsize=(20, 8))\n",
    "ax = fig.add_subplot(111)\n",
    "\n",
    "ax.bar(tr_df[\"Date\"], tr_df[\"Daily Confirmed\"], color=\"b\", label=\"Turkey Daily Cases\")\n",
    "ax.bar(tr_df[\"Date\"], tr_df[\"Daily Deaths\"], color=\"r\", label=\"Turkey Daily Deaths\")\n",
    "\n",
    "plt.legend(loc=\"upper left\")\n",
    "plt.show()"
   ]
  },
  {
   "cell_type": "code",
   "execution_count": null,
   "id": "deec5e68",
   "metadata": {
    "pycharm": {
     "is_executing": true,
     "name": "#%%\n"
    },
    "scrolled": true
   },
   "outputs": [],
   "source": [
    "yesterday = pd.Timestamp.today() - pd.Timedelta(days=1)\n",
    "yesterday.strftime(\"%Y-%m-%d\")\n",
    "today_df = df[df[\"Date\"]==yesterday]\n",
    "\n",
    "top_10 = today_df.sort_values([\"Confirmed\"], ascending=False)[:10]\n",
    "top_10.loc[\"rest-of-the-world\"] = today_df.sort_values([\"Confirmed\"], ascending=False)[10:].sum()\n",
    "top_10.loc[\"rest-of-the-world\", \"Country\"] = \"Rest of the World\"\n",
    "\n",
    "fig = plt.figure(figsize=(10, 10))\n",
    "ax = fig.add_subplot(111)\n",
    "\n",
    "ax.pie(top_10[\"Confirmed\"], labels=top_10[\"Country\"], autopct=\"%1.1f%%\")\n",
    "plt.show()"
   ]
  },
  {
   "cell_type": "code",
   "execution_count": null,
   "id": "cb51e4b2",
   "metadata": {
    "pycharm": {
     "is_executing": true
    }
   },
   "outputs": [],
   "source": []
  }
 ],
 "metadata": {
  "kernelspec": {
   "display_name": "Python 3",
   "language": "python",
   "name": "python3"
  },
  "language_info": {
   "codemirror_mode": {
    "name": "ipython",
    "version": 3
   },
   "file_extension": ".py",
   "mimetype": "text/x-python",
   "name": "python",
   "nbconvert_exporter": "python",
   "pygments_lexer": "ipython3",
   "version": "3.9.2"
  }
 },
 "nbformat": 4,
 "nbformat_minor": 5
}